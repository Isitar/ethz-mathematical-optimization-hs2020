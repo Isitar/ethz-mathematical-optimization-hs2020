{
 "cells": [
  {
   "cell_type": "markdown",
   "metadata": {
    "pycharm": {
     "name": "#%% md\n"
    }
   },
   "source": [
    "<div style=\"background-color: #1f407a;padding:1rem;\">\n",
    "<img src=\"images/ethz_logo.svg\" />\n",
    "</div>\n",
    "<p style=\"color:#1f407a;padding:1rem;margin:0; text-align:center; font-size: 2rem; font-weight: 600;\">\n",
    "401-3901-00L Mathematical Optimization HS2020\n",
    "</p>\n",
    "<p style=\"color:#1f407a;margin: 0; text-align:center; font-size: 1.25rem\">Problem set 2, Problemm 1: Finding Chebychev center of a polyhedron</p>\n",
    "<div style=\"text-align: center; color:#1f407a\">Pascal Lüscher</div>"
   ]
  },
  {
   "cell_type": "markdown",
   "metadata": {
    "pycharm": {
     "name": "#%% md\n"
    }
   },
   "source": [
    "Polytope defined as\n",
    "\n",
    "$- x_1 + x_2 \\leq 0$\n",
    "\n",
    "$x_1 + x_2 \\leq 8$\n",
    "\n",
    "$x_1 \\geq 0$\n",
    "\n",
    "$x_2 \\geq 0$\n",
    "\n",
    "$x_1,x_2 \\in R$\n",
    "\n"
   ]
  },
  {
   "cell_type": "code",
   "execution_count": 63,
   "metadata": {
    "pycharm": {
     "name": "#%%\n"
    }
   },
   "outputs": [
    {
     "data": {
      "image/png": "[encoded data removed]",
      "text/plain": [
       "<Figure size 432x288 with 1 Axes>"
      ]
     },
     "metadata": {
      "needs_background": "light"
     },
     "output_type": "display_data"
    }
   ],
   "source": [
    "import matplotlib.pyplot as plt\n",
    "import numpy as np\n",
    "%matplotlib inline\n",
    "\n",
    "fig, (ax) = plt.subplots(1, 1)\n",
    "\n",
    "A = np.linspace(0, 10, 100)\n",
    "\n",
    "a_1 = A\n",
    "a_2 = - A + 8\n",
    "ax.plot(A, a_1, color = 'blue')\n",
    "ax.plot(A, a_2, color = 'green')\n",
    "ax.fill_between(A, a_2, 100*[0], where=a_1-a_2>=0, facecolor='cyan', interpolate = True)\n",
    "ax.fill_between(A, a_1, 100*[0], where=a_1-a_2<=0, facecolor='cyan', interpolate = True)\n",
    "plt.xlabel(\"$x_1$\")\n",
    "plt.ylabel(\"$x_2$\")\n",
    "\n",
    "axis = plt.gca()\n",
    "axis.set_xlim([0,10])\n",
    "axis.set_ylim([0,10])\n",
    "plt.show()"
   ]
  },
  {
   "cell_type": "code",
   "execution_count": 82,
   "metadata": {
    "pycharm": {
     "name": "#%%\n"
    }
   },
   "outputs": [
    {
     "name": "stdout",
     "output_type": "stream",
     "text": [
      "---\n",
      "Solved problem state: Optimal\n",
      "Objective: 1.65685\n",
      "y: 4.0 1.65685\n",
      "r: 1.65685\n",
      "---\n"
     ]
    }
   ],
   "source": [
    "import pulp as p\n",
    "import math\n",
    "\n",
    "problem = p.LpProblem(\"Chebychev\", p.LpMaximize)\n",
    "y = [p.LpVariable(f\"y_{i}\",0) for i in range(2)]\n",
    "r = p.LpVariable(\"r\")\n",
    "\n",
    "problem += r\n",
    "\n",
    "\n",
    "# v_1 = (-1, 1), unit = (-1/sqrt(2), 1/sqrt(2))\n",
    "problem += -(y[0] + (-1 / math.sqrt(2)) * r) + (y[1] + (1 / math.sqrt(2)) * r) <= 0\n",
    "# v_2 = (1, 1), unit = (1/sqrt(2), 1/sqrt(2))\n",
    "problem += (y[0] + (1 / math.sqrt(2)) * r) + y[1] + (1 / math.sqrt(2)) * r <= 8\n",
    "# x_1 >= 0\n",
    "problem += y[0] >= r\n",
    "problem += y[1] >= r\n",
    "\n",
    "status = problem.solve()\n",
    "print(\"---\")\n",
    "print(f\"Solved problem state: {p.LpStatus[status]}\")\n",
    "print(f\"Objective: {problem.objective.value()}\")\n",
    "print(f\"y: {y[0].value()} {y[1].value()}\")\n",
    "print(f\"r: {r.value()}\")\n",
    "print(\"---\")"
   ]
  },
  {
   "cell_type": "code",
   "execution_count": 83,
   "metadata": {
    "pycharm": {
     "name": "#%%\n"
    }
   },
   "outputs": [
    {
     "data": {
      "text/plain": "<Figure size 432x288 with 1 Axes>",
      "image/png": "[encoded data removed]"
     },
     "metadata": {
      "needs_background": "light"
     },
     "output_type": "display_data"
    }
   ],
   "source": [
    "fig, (ax) = plt.subplots(1, 1)\n",
    "\n",
    "A = np.linspace(0, 10, 100)\n",
    "a_1 = A\n",
    "a_2 = - A + 8\n",
    "ax.plot(A, a_1, color = 'blue')\n",
    "ax.plot(A, a_2, color = 'green')\n",
    "ax.fill_between(A, a_2, 100*[0], where=a_1-a_2>=0, facecolor='cyan', interpolate = True)\n",
    "ax.fill_between(A, a_1, 100*[0], where=a_1-a_2<=0, facecolor='cyan', interpolate = True)\n",
    "plt.xlabel(\"$x_1$\")\n",
    "plt.ylabel(\"$x_2$\")\n",
    "circle = plt.Circle((y[0].value(), y[1].value()), r.value(), color='red')\n",
    "ax.add_artist(circle)\n",
    "axis = plt.gca()\n",
    "axis.set_aspect('equal', adjustable='box')\n",
    "axis.set_xlim([0,10])\n",
    "axis.set_ylim([0,10])\n",
    "plt.show()"
   ]
  }
 ],
 "metadata": {
  "kernelspec": {
   "display_name": "Python 3",
   "language": "python",
   "name": "python3"
  },
  "language_info": {
   "codemirror_mode": {
    "name": "ipython",
    "version": 3
   },
   "file_extension": ".py",
   "mimetype": "text/x-python",
   "name": "python",
   "nbconvert_exporter": "python",
   "pygments_lexer": "ipython3",
   "version": "3.7.9"
  }
 },
 "nbformat": 4,
 "nbformat_minor": 1
}