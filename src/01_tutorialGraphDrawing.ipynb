{
 "cells": [
  {
   "cell_type": "markdown",
   "metadata": {},
   "source": [
    "# networkx Part 1 : Undirected graphs and drawing\n",
    "\n",
    "<font color='blue'><b>Goals of this notebook:</b></font>\n",
    "Learn how to create and draw undirected, unlabeled graphs.\n",
    "\n",
    "<font color='blue'><b>Python packages required:</b></font>\n",
    "`networkx`\n",
    "\n",
    "<font color='blue'><b>Additional resources:</b></font> \n",
    "For more on networkx including examples and tutorials, see https://networkx.github.io/documentation/stable/.\n",
    "For more on graph drawing, see https://networkx.github.io/documentation/stable/reference/drawing.html.\n",
    "For a list of algorithms supported by `networkx`, see https://networkx.github.io/documentation/stable/reference/algorithms/index.html.\n",
    "\n",
    "Graphs are ways of representing relationships between objects. \n",
    "A graph consists of two components: a set of nodes (sometimes called vertices) and a set of edges that connect the nodes.\n",
    "We can build graphs in Python using three steps.\n",
    "\n",
    "<b>Step 1: Import Python's toolbox for graphs.</b> \n",
    "This toolbox is called `networkx`. \n",
    "\n",
    "<b>Step 2: Create an empty graph.</b>\n",
    "An empty graph is just the graph that contains no nodes or edges.\n",
    "\n",
    "<b>Step 3: Add nodes and edges.</b>\n",
    "\n",
    "Let's use the the following example to demonstrate <b>Steps 1-3</b>.\n",
    "\n",
    "$$\n",
    "\\begin{array}{rcl}\n",
    "\\text{Nodes} &=& \\{1, 2, \\dotsc, 7\\}\\\\\n",
    "\\text{Edges} &=&\\{\\{i,j\\} : ~~ |i - j| \\equiv 1\\pmod{5} ~~\\text{or} ~~ |i - j| \\equiv 2\\pmod{5}\\}.\n",
    "\\end{array}\n",
    "$$\n",
    "\n",
    "<font color='red'><b>Note:</b></font> \n",
    "We can label each node with anything we choose, e.g., a number, a letter, or a name."
   ]
  },
  {
   "cell_type": "markdown",
   "metadata": {},
   "source": [
    "#### Steps 1 and 2. Loading networkx and creating an empty graph\n",
    "\n",
    "The first thing to do is load `networkx` using the command\n",
    "\n",
    "`import networkx as nx`\n",
    "\n",
    "After loading `networkx`, we can create an empty graph named `G` with the command \n",
    "\n",
    "`G = nx.Graph()`\n",
    "\n",
    "Feel free to replace `G` with the name that you want for your graph.\n",
    "\n",
    "Run the following line of code to import `networkx` and create `G`."
   ]
  },
  {
   "cell_type": "code",
   "execution_count": 5,
   "metadata": {},
   "outputs": [],
   "source": [
    "# Load networkx\n",
    "import networkx as nx\n",
    "\n",
    "# Create an empty graph\n",
    "G = nx.Graph()"
   ]
  },
  {
   "cell_type": "markdown",
   "metadata": {},
   "source": [
    "#### Step 3. Adding nodes and edges \n",
    "\n",
    "There are many ways to add nodes to `G`.\n",
    "We add the node labeled `v` to `G` using the command \n",
    "\n",
    "`G.add_node(v)` \n",
    "\n",
    "We can view the nodes of `G` using the command `G.nodes`.\n",
    "\n",
    "Run the following line of code to add node labeled `1` and print the node list. "
   ]
  },
  {
   "cell_type": "code",
   "execution_count": 6,
   "metadata": {},
   "outputs": [
    {
     "name": "stdout",
     "output_type": "stream",
     "text": [
      "The nodes of G are [1].\n"
     ]
    }
   ],
   "source": [
    "# Add one node to G\n",
    "G.add_node(1)\n",
    "\n",
    "# Print the node list\n",
    "print(f'The nodes of G are {G.nodes}.')"
   ]
  },
  {
   "cell_type": "markdown",
   "metadata": {},
   "source": [
    "We can add multiple nodes using the command `G.add_nodes_from()`.\n",
    "If we want to add nodes `2,3,4,5` to `G`, then we using the command \n",
    "\n",
    "`G.add_nodes_from([2,3,4,5])`\n",
    "\n",
    "<font color='red'><b>Note:</b></font> The nodes that we add are inserted in `G.add_nodes_from()` using a Python list. Therefore, we can also add the nodes `2,3,4,5` using `G.add_nodes_from(range(2,6))`.\n",
    "\n",
    "Run the following line of code to add node labeled `2` through `5` and print the node list."
   ]
  },
  {
   "cell_type": "code",
   "execution_count": 7,
   "metadata": {},
   "outputs": [
    {
     "name": "stdout",
     "output_type": "stream",
     "text": [
      "The nodes of G are [1, 2, 3, 4, 5].\n"
     ]
    }
   ],
   "source": [
    "# Add multiple nodes to G\n",
    "G.add_nodes_from([2,3,4,5])\n",
    "\n",
    "# Print the nodes\n",
    "print(f'The nodes of G are {G.nodes}.')"
   ]
  },
  {
   "cell_type": "markdown",
   "metadata": {},
   "source": [
    "A third way to add a node is to add an edge containing the node.\n",
    "Notice that the last two nodes that we need to add, `6` and `7`, form an edge in `G`. \n",
    "We can add one edge at a time using the command `G.add_edge()` with the two nodes of the edge inserted in `()`.\n",
    "Therefore, the command \n",
    "\n",
    "`G.add_edge(6,7)` \n",
    "\n",
    "will add the nodes `6` and `7` <i>and</i> add the edge `(6,7)`.\n",
    "\n",
    "We can access the current edge list using the command `G.edges`.\n",
    " \n",
    "Run the following line of code to add nodes `6` and `7` and print the nodes and edges."
   ]
  },
  {
   "cell_type": "code",
   "execution_count": 8,
   "metadata": {},
   "outputs": [
    {
     "name": "stdout",
     "output_type": "stream",
     "text": [
      "The nodes of G are [1, 2, 3, 4, 5, 6, 7].\n",
      "The edges of G are [(6, 7)].\n"
     ]
    }
   ],
   "source": [
    "# Add nodes to G by adding an edge\n",
    "G.add_edge(6,7)\n",
    "\n",
    "# Print the nodes\n",
    "print(f'The nodes of G are {G.nodes}.')\n",
    "\n",
    "# Print the edges\n",
    "print(f'The edges of G are {G.edges}.')"
   ]
  },
  {
   "cell_type": "markdown",
   "metadata": {},
   "source": [
    "The command `G.add_edge()` adds one edge to `G`. \n",
    "We can add multiple edges using the command `G.add_edges_from()` with the edges inserted in `()` in a list.\n",
    "For example, the command\n",
    "\n",
    "`G.add_edges_from([(1,2), (2,3), (3,4), (4,5)])`\n",
    "\n",
    "will add the edges `(1,2), (2,3), (3,4)` and `(4,5)` to `G`.\n",
    "\n",
    "Run the following line of code to add these edges to `G` and print the edges."
   ]
  },
  {
   "cell_type": "code",
   "execution_count": 9,
   "metadata": {},
   "outputs": [
    {
     "name": "stdout",
     "output_type": "stream",
     "text": [
      "The edges of G are [(1, 2), (2, 3), (3, 4), (4, 5), (6, 7)].\n"
     ]
    }
   ],
   "source": [
    "# Add multiple edges\n",
    "G.add_edges_from([(1, 2), (2,3), (3,4), (4,5)])\n",
    "\n",
    "# Print the edges\n",
    "print(f'The edges of G are {G.edges}.')"
   ]
  },
  {
   "cell_type": "markdown",
   "metadata": {},
   "source": [
    "It is important to know that we can also remove nodes and edges from a graph. \n",
    "The command to remove a node is `G.remove_node()`, and the command to remove an edge is `G.remove_edge()`.\n",
    "For example, the command\n",
    "\n",
    "`G.remove_edge(1, 2)`\n",
    "\n",
    "removes the edge `(1,2)` from `G`.\n",
    "We can also use the commands `G.remove_nodes_from()` and `G.remove_edges_from()`.\n",
    "\n",
    "Run the following line of code to remove the edge `(1, 2)` from `G` and print the edges."
   ]
  },
  {
   "cell_type": "code",
   "execution_count": 10,
   "metadata": {},
   "outputs": [
    {
     "name": "stdout",
     "output_type": "stream",
     "text": [
      "The edges of G are [(2, 3), (3, 4), (4, 5), (6, 7)].\n"
     ]
    }
   ],
   "source": [
    "# Removing edges\n",
    "G.remove_edge(1, 2)\n",
    "\n",
    "#Print the edges\n",
    "print(f'The edges of G are {G.edges}.')"
   ]
  },
  {
   "cell_type": "markdown",
   "metadata": {},
   "source": [
    "We can add the remaining edges of `G` by looping through all nodes and checking if they form an edge of `G`.\n",
    "We can loop through the nodes of `G` using \n",
    "\n",
    "`for i in G.nodes`\n",
    "\n",
    "Run the following line of code to add the remaining edges to `G` and print the edges."
   ]
  },
  {
   "cell_type": "code",
   "execution_count": 11,
   "metadata": {},
   "outputs": [
    {
     "name": "stdout",
     "output_type": "stream",
     "text": [
      "The edges of G are [(1, 2), (1, 3), (1, 7), (2, 3), (2, 4), (3, 4), (3, 5), (4, 5), (4, 6), (5, 6), (5, 7), (6, 7)].\n"
     ]
    }
   ],
   "source": [
    "# Create the remaining edges of G\n",
    "for i in G.nodes:\n",
    "    for j in G.nodes:\n",
    "        if abs(i-j) % 5 == 1 or abs(i-j) % 5 == 2 :\n",
    "            G.add_edge(i,j)\n",
    "            \n",
    "# Print the edges\n",
    "print(f'The edges of G are {G.edges}.')"
   ]
  },
  {
   "cell_type": "markdown",
   "metadata": {},
   "source": [
    "Congratulations!\n",
    "You have succesfully created a graph using `networkx`. \n",
    "\n",
    "We can now examine the nodes and edges of `G`.\n",
    "Let's explore how by searching for triangles in `G`.\n",
    "\n",
    "<font color='red'><b>Note:</b></font> The Python package `itertools` allows us to quickly loop over tuples of a set.\n",
    "As an example, the double loop above could be replaced by\n",
    "\n",
    "    from itertools import combinations\n",
    "\n",
    "    for pair in combinations(G.nodes,2):\n",
    "        if abs(pair[0]-pair[1]) % 5 == 1 or abs(pair[0]-pair[1]) % 5 == 2:\n",
    "            G.add_edge(pair[0], pair[1])\n",
    "\n",
    "The previous code loops through all `combinations` of `G.nodes` of size `2`. "
   ]
  },
  {
   "cell_type": "markdown",
   "metadata": {},
   "source": [
    "### Example: Finding triangles in a graph\n",
    "\n",
    "A triangle in a graph is three nodes that are all connected by an edge.\n",
    "One way to check if `G` has a triangle is to check every triple of nodes and see if they are adjacent.\n",
    "The command \n",
    "\n",
    "`(i,j) in G.edges` \n",
    "\n",
    "returns `True` if `(i,j)` is an edge of `G`.\n",
    "\n",
    "Run the following line of code to check if `G` contains a triangle. We also print any triangles found."
   ]
  },
  {
   "cell_type": "code",
   "execution_count": 12,
   "metadata": {},
   "outputs": [
    {
     "name": "stdout",
     "output_type": "stream",
     "text": [
      "G contains the triangle (1, 2, 3).\n",
      "G contains the triangle (2, 3, 4).\n",
      "G contains the triangle (3, 4, 5).\n",
      "G contains the triangle (4, 5, 6).\n",
      "G contains the triangle (5, 6, 7).\n"
     ]
    }
   ],
   "source": [
    "# Import the itertools to quickly loop through triples\n",
    "from itertools import combinations\n",
    "\n",
    "# Loop through triples\n",
    "for tri in combinations(G.nodes,3):\n",
    "    # Check if there is a triangle. \n",
    "            if (tri[0],tri[1]) in G.edges and (tri[0],tri[2]) in G.edges and (tri[1],tri[2]) in G.edges:\n",
    "                print(f'G contains the triangle {tri}.')"
   ]
  },
  {
   "cell_type": "markdown",
   "metadata": {},
   "source": [
    "<font color='red'><b>Note:</b></font> Another way of checking if an edge exists is to check if one node contains another node in its <i>adjacency list</i>.\n",
    "The adjacencies of `G` can be accessed using `G.adj`.\n",
    "The specific neighbors of a node can be accessed using the command `G.adj[v]`, where `v` is the node whose neighbors we want."
   ]
  },
  {
   "cell_type": "markdown",
   "metadata": {},
   "source": [
    "Another way to check if a triangle exists in `G` using predefined functions in `networkx`.\n",
    "\n",
    "The package `networkx` has a command to find all <i>maximal cliques</i> in a graph. \n",
    "A clique in a graph is a set of nodes that are all connected (so a triangle is a clique of size 3).\n",
    "A maximal clique is a clique that cannot be enlarged by adding more nodes. \n",
    "The command for this function is \n",
    "\n",
    "`clique_list = nx.find_cliques(G)`.\n",
    "\n",
    "Tha previous command will run the algorithm `nx.find_cliques(G)` and store all maximal cliques as a list in `clique_list`.\n",
    "\n",
    "<font color='red'><b>Note:</b></font> The `nx.find_cliques()` command is just one example of the many algorithms built into `networkx`! The command makes our lives easier by removing the need of a triple loop.\n",
    "\n",
    "Run the following line of code to find all of the cliques in `G` and print all the triangles."
   ]
  },
  {
   "cell_type": "code",
   "execution_count": 13,
   "metadata": {},
   "outputs": [
    {
     "name": "stdout",
     "output_type": "stream",
     "text": [
      "G contains the triangle [3, 2, 1].\n",
      "G contains the triangle [3, 2, 4].\n",
      "G contains the triangle [3, 5, 4].\n",
      "G contains the triangle [6, 5, 4].\n",
      "G contains the triangle [6, 5, 7].\n"
     ]
    }
   ],
   "source": [
    "# Use the predefined command nx.find_cliques\n",
    "clique_list = nx.find_cliques(G)\n",
    "\n",
    "for clique in clique_list:\n",
    "    if len(clique) == 3:\n",
    "        print(f'G contains the triangle {clique}.')"
   ]
  },
  {
   "cell_type": "markdown",
   "metadata": {},
   "source": [
    "# Drawing graphs\n",
    "\n",
    "It is often helpful for us to visualize a graph. \n",
    "The `networkx` package can be used to plot graphs. \n",
    "\n",
    "<font color='red'><b>Note:</b></font> Graph drawing is difficult and it is not easy to draw a graph in `networkx` precisely how we want. \n",
    "\n",
    "We can draw `G` using the command \n",
    "\n",
    "`nx.draw(G, with_labels=True, node_color = 'lightblue')`\n",
    "\n",
    "There is one mandatory input and many optinonal inputs to this function.\n",
    "\n",
    "`G` : This is the name of the graph that we want to draw. It is mandatory.\n",
    "\n",
    "`with_labels = True` : This shows the labels of our nodes. This is an optional input. If we have many nodes, then it might be helpful to remove this input.\n",
    "\n",
    "`node_color = 'lightblue'`: This adjusts the color of the nodes.\n",
    "\n",
    "Run the following cell to draw `G`."
   ]
  },
  {
   "cell_type": "code",
   "execution_count": 14,
   "metadata": {},
   "outputs": [
    {
     "data": {
      "image/png": "[encoded data removed]",
      "text/plain": [
       "<Figure size 432x288 with 1 Axes>"
      ]
     },
     "metadata": {},
     "output_type": "display_data"
    }
   ],
   "source": [
    "# This magic command is for drawing inline in the Jupyter Notebook. It has to be executed once for the full notebook.\n",
    "%matplotlib inline\n",
    "\n",
    "# Draw G\n",
    "nx.draw(G, with_labels=True, node_color = 'lightblue')\n",
    "\n",
    "# Note: There might be a deprecation warning appearing; it comes from code in the networkx package, so we cannot do much about it."
   ]
  },
  {
   "cell_type": "markdown",
   "metadata": {},
   "source": [
    "One very useful optional input is the position of the nodes. \n",
    "If we do not specify positions, then `nx.draw()` will draw the nodes in different places everytime we run it!\n",
    "You can test this for yourself by re-running the previous command.\n",
    " \n",
    "It is useful to choose positions because we will later use these positions to draw other things on our graph such as edge weights.\n",
    "These positions can be manually created, but `networkx` has a collection of positions to choose from. \n",
    "The line of code \n",
    "\n",
    "`node_pos =  nx.circular_layout(G)` \n",
    "\n",
    "chooses the `circular_layout` positioning.\n",
    "We add this positioning to our nodes by adding \n",
    "\n",
    "`pos = node_pos` \n",
    "\n",
    "as an input to the `nx.draw()` command. \n",
    "\n",
    "<font color='red'><b>Note:</b></font> Some layouts in `networkx` create new positions every time that it is run. Therefore, you should only run these command once and reference the position later using `node_pos`!\n",
    "If you do this, then every time you draw `G` the nodes will be in the same position.\n",
    "\n",
    "Run the following lines of code to set the node positions."
   ]
  },
  {
   "cell_type": "code",
   "execution_count": 15,
   "metadata": {},
   "outputs": [
    {
     "data": {
      "image/png": "[encoded data removed]",
      "text/plain": [
       "<Figure size 432x288 with 1 Axes>"
      ]
     },
     "metadata": {},
     "output_type": "display_data"
    }
   ],
   "source": [
    "# Fix a position of the nodes\n",
    "node_pos =  nx.circular_layout(G)\n",
    "\n",
    "# Draw G with fixed positions\n",
    "nx.draw(G,with_labels=True, pos = node_pos, node_color = 'lightblue')"
   ]
  },
  {
   "cell_type": "markdown",
   "metadata": {},
   "source": [
    "Good job!\n",
    "At this point, we have seen how to create undirected graphs and draw them.\n",
    "It turns out that we can already run many common graph algorithms with these commands. \n",
    "Let's finish this tutorial by introducing some of these algorithms to practice what we have learned."
   ]
  },
  {
   "cell_type": "markdown",
   "metadata": {},
   "source": [
    "#### Example: Induced subgraphs\n",
    "\n",
    "An induced subgraph of `G` contains the relationships for a certain subset of the nodes. \n",
    "Recall that the edges of an <i>induced</i> subgraph are those edges with both endpoints in the induced node set.\n",
    "Suppose that we want to draw the subgraph of `G` induced by the nodes of `G` of degree 3. \n",
    "\n",
    "Given a set `L` of nodes of `G`, we can use the command \n",
    "\n",
    "`H = G.subgraph(L)` \n",
    "\n",
    "to create the subgraph induced by `L`.\n",
    "\n",
    "We can access the degree of a node labeled `v` using the command `G.degree[v]`.\n",
    "\n",
    "Run the following command to create `H` and draw it using the same node positions as before."
   ]
  },
  {
   "cell_type": "code",
   "execution_count": 16,
   "metadata": {},
   "outputs": [
    {
     "data": {
      "image/png": "[encoded data removed]",
      "text/plain": [
       "<Figure size 432x288 with 1 Axes>"
      ]
     },
     "metadata": {},
     "output_type": "display_data"
    }
   ],
   "source": [
    "# Find the nodes of G of degree 3\n",
    "deg_3_nodes = [i for i in G.nodes if G.degree[i]==3]\n",
    "\n",
    "# Create H using these nodes\n",
    "H = G.subgraph(deg_3_nodes)\n",
    "\n",
    "# Draw H\n",
    "nx.draw(H,with_labels=True, pos = node_pos, node_color = 'lightblue')"
   ]
  },
  {
   "cell_type": "markdown",
   "metadata": {},
   "source": [
    "#### Example: Matchings\n",
    "\n",
    "A <i>matching</i> is a set of edges of `G` such that no two edges share a node.\n",
    "Out of all matchings in `G`, a <i>maximum matching</i> is a matching with the largest number of edges.\n",
    "We can find a maximum matching in a graph using the command \n",
    "\n",
    "`M = nx.max_weight_matching(G)`\n",
    "\n",
    "This command returns a set of edges `M` in the matching.\n",
    "\n",
    "<font color='red'><b>Note:</b></font> The command `nx.max_weight_matching(G)` finds a so-called maximum weight matching. At this moment, you do not need to know what a maximum weight matching is, and we will consider these in part 3 of the tutorial. If we run the command as stated here, then we find a maximum matching.\n",
    "\n",
    "Run the following code to find a maximum matching in `G` and print the edges."
   ]
  },
  {
   "cell_type": "code",
   "execution_count": 17,
   "metadata": {},
   "outputs": [
    {
     "name": "stdout",
     "output_type": "stream",
     "text": [
      "A maximum matching in G is {(4, 5), (6, 7), (2, 3)}.\n"
     ]
    }
   ],
   "source": [
    "# Find a maximum matching in G\n",
    "M = nx.max_weight_matching(G)\n",
    "\n",
    "print(f'A maximum matching in G is {M}.')"
   ]
  },
  {
   "cell_type": "markdown",
   "metadata": {},
   "source": [
    "We can draw `G` with only the edges of `M`.\n",
    "We do this by adding the optional input \n",
    "\n",
    "`edgelist = M` \n",
    "\n",
    "into the `nx.draw()` command.\n",
    "\n",
    "Run the following command to draw `G` with the edges of `M`. We use the same node positions as before."
   ]
  },
  {
   "cell_type": "code",
   "execution_count": 18,
   "metadata": {},
   "outputs": [
    {
     "data": {
      "image/png": "[encoded data removed]",
      "text/plain": [
       "<Figure size 432x288 with 1 Axes>"
      ]
     },
     "metadata": {},
     "output_type": "display_data"
    }
   ],
   "source": [
    "# Draw G with the edges of M\n",
    "nx.draw(G, pos = node_pos , edgelist = M, \n",
    "              with_labels=True, node_color = 'lightblue')"
   ]
  },
  {
   "cell_type": "markdown",
   "metadata": {},
   "source": [
    "#### Example: Breadth first search\n",
    "\n",
    "Suppose that we want to run the BFS algorithm on `G` using `1` as a root. \n",
    "One method to run BFS is using the command \n",
    "\n",
    "`edges_from_BFS = list(nx.bfs_edges(G, 1))`\n",
    "\n",
    "The previous command runs `nx.bfs_edges(G,1)` and returns the edges found by the BFS algorithm in the order that the BFS algorithm found them.\n",
    "\n",
    "<font color='red'><b>Note:</b></font> The command `nx.bfs_edges(G,1)` returns a data structure called a generator. You do not need to know what this is. We use `list(nx.bfs_edges(G, 1))` in order to transform it into something more familiar.\n",
    "\n",
    "Run the following code to run BFS on `G` starting at `1`. We print the edges and nodes in the order they are visited."
   ]
  },
  {
   "cell_type": "code",
   "execution_count": 19,
   "metadata": {},
   "outputs": [
    {
     "name": "stdout",
     "output_type": "stream",
     "text": [
      "Here are the edges that BFS finds if we start at 1 :[(1, 2), (1, 3), (1, 7), (2, 4), (3, 5), (7, 6)].\n",
      "Here are the nodes that BFS finds if we start at 1: [1, 2, 3, 7, 4, 5, 6].\n"
     ]
    }
   ],
   "source": [
    "# Run BFS on G with root node 1\n",
    "edges_from_BFS = list(nx.bfs_edges(G, 1))\n",
    "\n",
    "# Print the edges from the BFS algorithm\n",
    "print(f'Here are the edges that BFS finds if we start at 1 :{edges_from_BFS}.')\n",
    "\n",
    "# Print the nodes from the BFS algorithm\n",
    "nodes_from_BFS = [1] + [v for u, v in edges_from_BFS]\n",
    "print(f'Here are the nodes that BFS finds if we start at 1: {nodes_from_BFS}.')"
   ]
  },
  {
   "cell_type": "markdown",
   "metadata": {},
   "source": [
    "Finally, we can draw `G` with only the edges visited by `BFS`. \n",
    "\n",
    "Run the following command to draw `G` with the edge list `edges_from_BFS`. "
   ]
  },
  {
   "cell_type": "code",
   "execution_count": 20,
   "metadata": {},
   "outputs": [
    {
     "data": {
      "image/png": "[encoded data removed]",
      "text/plain": [
       "<Figure size 432x288 with 1 Axes>"
      ]
     },
     "metadata": {},
     "output_type": "display_data"
    }
   ],
   "source": [
    "# Draw G with the edges of M\n",
    "nx.draw(G, pos = node_pos , edgelist = edges_from_BFS, \n",
    "              with_labels=True, node_color = 'lightblue')"
   ]
  },
  {
   "cell_type": "markdown",
   "metadata": {},
   "source": [
    "## Conclusions\n",
    "\n",
    "`networkx` has many tools for creating and drawing graphs, and running graph algorithms. This tutorial gives a small sample of these commands. See part 2 of this tutorial to learn about directed graphs."
   ]
  }
 ],
 "metadata": {
  "kernelspec": {
   "display_name": "Python 3",
   "language": "python",
   "name": "python3"
  },
  "language_info": {
   "codemirror_mode": {
    "name": "ipython",
    "version": 3
   },
   "file_extension": ".py",
   "mimetype": "text/x-python",
   "name": "python",
   "nbconvert_exporter": "python",
   "pygments_lexer": "ipython3",
   "version": "3.7.9"
  }
 },
 "nbformat": 4,
 "nbformat_minor": 4
}