{
 "cells": [
  {
   "cell_type": "markdown",
   "metadata": {},
   "source": [
    "# Exercise: Simplex pivots in the short tableau\n",
    "<font color='blue'><b>Goal:</b></font>\n",
    "Writing a function to perform one pivot step in the short tableau.\n",
    "\n",
    "<font color='blue'><b>Required packages:</b></font>`numpy`"
   ]
  },
  {
   "cell_type": "markdown",
   "metadata": {},
   "source": [
    "Suppose you are given the following LP from the lecture notes:\n",
    "\n",
    "$$\\begin{equation}\\label{eq:sampleTermLp}\n",
    "\\begin{array}{rrcrcll}\n",
    "\\max z = &400 x_1 &+ &900 x_2 &       &    & \\\\\n",
    "         &x_1     &+ &4 x_2   & \\leq  &40  & \\text{(constraint 1)} \\\\\n",
    "         &2x_1    &+ & x_2    & \\leq  &42  & \\text{(constraint 2)}\\\\\n",
    "         &1.5x_1  &+ &3x_2    & \\leq  &36  & \\text{(constraint 3)}\\\\\n",
    "         &x_1     &  &        & \\geq  &0   & \\text{(non-negativity for $x_1$)}\\\\\n",
    "         &        &  &x_2     & \\geq  &0   & \\text{(non-negativity for $x_2$)}\\\\\n",
    "\\end{array}\n",
    "\\end{equation}$$\n",
    "This problem's graphical presentation looks as follows:\n",
    "\n",
    "![](pivoting_fig1.png)\n",
    "\n",
    "After adding slack variables, you obtain the short tableau\n",
    "$$\\begin{array}{c|rr|r}\n",
    "&x_1&x_2&1\\\\\n",
    "\\hline\n",
    "z&-400&-900&0\\\\\n",
    "\\hline\n",
    "y_1&1&4&40\\\\\n",
    "y_2&2&1&42\\\\\n",
    "y_3&1.5&3&36\n",
    "\\end{array}$$\n",
    "\n",
    "We will implement a function to perform pivoting steps on short tableaus as for example the one above."
   ]
  },
  {
   "cell_type": "markdown",
   "metadata": {},
   "source": [
    "## Additional `numpy` functionality\n",
    "For your task, you will need to perform row operations. When working with matrices in `numpy`, this can be done as follows. Let us first create a matrix $A$:"
   ]
  },
  {
   "cell_type": "code",
   "execution_count": 71,
   "metadata": {},
   "outputs": [
    {
     "data": {
      "text/plain": [
       "array([[1, 2],\n",
       "       [3, 4],\n",
       "       [5, 6]])"
      ]
     },
     "execution_count": 71,
     "metadata": {},
     "output_type": "execute_result"
    }
   ],
   "source": [
    "import numpy as np\n",
    "A = np.array(\n",
    "[\n",
    "    [1,2],\n",
    "    [3,4],\n",
    "    [5,6]\n",
    "])\n",
    "A"
   ]
  },
  {
   "cell_type": "markdown",
   "metadata": {},
   "source": [
    "To obtain the first row, we type"
   ]
  },
  {
   "cell_type": "code",
   "execution_count": 72,
   "metadata": {},
   "outputs": [
    {
     "data": {
      "text/plain": [
       "array([1, 2])"
      ]
     },
     "execution_count": 72,
     "metadata": {},
     "output_type": "execute_result"
    }
   ],
   "source": [
    "A[0,:]"
   ]
  },
  {
   "cell_type": "markdown",
   "metadata": {},
   "source": [
    "Subtracting the first row from the second, for example, can be done with the code"
   ]
  },
  {
   "cell_type": "code",
   "execution_count": 73,
   "metadata": {},
   "outputs": [
    {
     "data": {
      "text/plain": [
       "array([[1, 2],\n",
       "       [2, 2],\n",
       "       [5, 6]])"
      ]
     },
     "execution_count": 73,
     "metadata": {},
     "output_type": "execute_result"
    }
   ],
   "source": [
    "A[1,:] = A[1,:] - A[0,:]\n",
    "A"
   ]
  },
  {
   "cell_type": "markdown",
   "metadata": {},
   "source": [
    "To get the number of rows of $A$, type"
   ]
  },
  {
   "cell_type": "code",
   "execution_count": 74,
   "metadata": {},
   "outputs": [
    {
     "data": {
      "text/plain": [
       "3"
      ]
     },
     "execution_count": 74,
     "metadata": {},
     "output_type": "execute_result"
    }
   ],
   "source": [
    "A.shape[0]"
   ]
  },
  {
   "cell_type": "markdown",
   "metadata": {},
   "source": [
    "Analogously, we can select columns as follows:"
   ]
  },
  {
   "cell_type": "code",
   "execution_count": 75,
   "metadata": {},
   "outputs": [
    {
     "data": {
      "text/plain": [
       "array([1, 2, 5])"
      ]
     },
     "execution_count": 75,
     "metadata": {},
     "output_type": "execute_result"
    }
   ],
   "source": [
    "A[:,0]"
   ]
  },
  {
   "cell_type": "markdown",
   "metadata": {},
   "source": [
    "To get the number of columns of $A$, type"
   ]
  },
  {
   "cell_type": "code",
   "execution_count": 76,
   "metadata": {},
   "outputs": [
    {
     "data": {
      "text/plain": [
       "2"
      ]
     },
     "execution_count": 76,
     "metadata": {},
     "output_type": "execute_result"
    }
   ],
   "source": [
    "A.shape[1]"
   ]
  },
  {
   "cell_type": "markdown",
   "metadata": {},
   "source": [
    "Finally, to obtain an entry $A_{i,j}$, type (exemplified for $i=0$, $j=1$):"
   ]
  },
  {
   "cell_type": "code",
   "execution_count": 77,
   "metadata": {},
   "outputs": [
    {
     "data": {
      "text/plain": [
       "2"
      ]
     },
     "execution_count": 77,
     "metadata": {},
     "output_type": "execute_result"
    }
   ],
   "source": [
    "a_01 = A[0,1]\n",
    "a_01"
   ]
  },
  {
   "cell_type": "markdown",
   "metadata": {},
   "source": [
    "Furthermore, you may need to append a standard unit vector $v$ to a matrix $A$. This can be done as follows, where we exemplify the procedure with the first standard unit vector $e_1$:"
   ]
  },
  {
   "cell_type": "code",
   "execution_count": 79,
   "metadata": {},
   "outputs": [
    {
     "data": {
      "text/plain": [
       "array([[1., 2., 1., 1.],\n",
       "       [2., 2., 0., 0.],\n",
       "       [5., 6., 0., 0.]])"
      ]
     },
     "execution_count": 79,
     "metadata": {},
     "output_type": "execute_result"
    }
   ],
   "source": [
    "v = np.array(np.zeros((A.shape[0],1)))\n",
    "v[0,0] = 1 # first standard unit vector\n",
    "A = np.append(A, v, axis=1)\n",
    "A"
   ]
  },
  {
   "cell_type": "markdown",
   "metadata": {},
   "source": [
    "Finally, to delete a column $i$, let's say for $i=0$ (the first column), type:"
   ]
  },
  {
   "cell_type": "code",
   "execution_count": 83,
   "metadata": {},
   "outputs": [
    {
     "data": {
      "text/plain": [
       "array([], shape=(3, 0), dtype=float64)"
      ]
     },
     "execution_count": 83,
     "metadata": {},
     "output_type": "execute_result"
    }
   ],
   "source": [
    "A = np.delete(A,[0],1)\n",
    "A"
   ]
  },
  {
   "cell_type": "markdown",
   "metadata": {},
   "source": [
    "## A pivoting function\n",
    "We now want to implement a function `pivot(T, i, j)` which takes in a short tableau $T$, and replaces the basis variable corresponding to row $i$ of the tableau by the variable corresponding to column $j$ of the tableau. By convention, the tableau $T$ should include the objective function row as the first row (the row with index $0$), and the right hand sides as the last column.\n",
    "\n",
    "To avoid accidental selection of a pivot from the objective function row or the column of right-hand sides, your function should check that the input indices $i$ and $j$ are indeed pointing at a potential pivot. If not, the function should print a message saying so, and return the input tableau. Similarly, if the indicated pivot element is zero (in which case the pivoting step cannot be performed), the function should print a message saying so, and return the input tableau.\n",
    "If a non-zero pivot is given, the pivoting step should be carried out, and the new tableau should be returned. Additionally, the function should print a message indicating whether or not the pivot was legal for phase II of the simplex method.\n",
    "\n",
    "Complete the given framework below to obtain the pivoting function with the desired functionality."
   ]
  },
  {
   "cell_type": "code",
   "execution_count": 99,
   "metadata": {},
   "outputs": [],
   "source": [
    "def pivot(T, i, j):\n",
    "\trhsIndex = T.shape[1] - 1\n",
    "\n",
    "\tif (0 == i  # objective function row\n",
    "\t\t\tor j == rhsIndex  # rhs\n",
    "\t):\n",
    "\t\tprint(\"[Error] Given indices are not pointing at a potential pivot.\")\n",
    "\t\treturn T\n",
    "\n",
    "\tif (0 == T[i, j]):  # Check if the indicated pivot is zero\n",
    "\t\tprint(\"[Error] Given pivot is zero, step cannot be performed.\")\n",
    "\t\treturn T\n",
    "\n",
    "\tdef quotient(row):\n",
    "\t\treturn T[row, rhsIndex] / T[row, j]\n",
    "\n",
    "\t# check quotient rule\n",
    "\tisMinQuotient = True\n",
    "\tchosenQutient = quotient(i)\n",
    "\tfor row in range(T.shape[0]):\n",
    "\t\tif (T[row, j] <= 0):\n",
    "\t\t\tcontinue\n",
    "\t\tif (quotient(row) < chosenQutient):\n",
    "\t\t\tisMinQuotient = False\n",
    "\t\t\tbreak\n",
    "\n",
    "\tif (T[0, j] < 0 and isMinQuotient):  # Check if indicated pivot is legal for phase II of Simplex Method\n",
    "\t\tprint(\"[Info] Given pivot is legal.\")\n",
    "\telse:\n",
    "\t\tprint(\"[Warning] Given pivot is illegal.\")\n",
    "\n",
    "\t# Implement pivoting step here\n",
    "\tT_pivoted = np.copy(T)\n",
    "\n",
    "\tfor row in range(T_pivoted.shape[0]):\n",
    "\t\tfor col in range(T_pivoted.shape[1]):\n",
    "\t\t\t# pivot element\n",
    "\t\t\tif (i == row and j == col):\n",
    "\t\t\t\tT_pivoted[row, col] = 1 / T[i, j]\n",
    "\t\t\t# pivot col\n",
    "\t\t\telif (j == col):\n",
    "\t\t\t\tT_pivoted[row, col] = -T[row, col] / T[i, j]\n",
    "\t\t\t# pivot row\n",
    "\t\t\telif (i == row):\n",
    "\t\t\t\tT_pivoted[row, col] = T[row, col] / T[i, j]\n",
    "\t\t\t# other elements\n",
    "\t\t\telse:\n",
    "\t\t\t\tT_pivoted[row, col] = T[row, col] - (T[row, j] * T[i, col]) / T[i, j]\n",
    "\n",
    "\treturn T_pivoted"
   ]
  },
  {
   "cell_type": "markdown",
   "source": [
    "## Testing your implementation\n",
    "To check whether your implementation works, use your function to reproduce the following pivot steps from the lecture notes:\n",
    "\n",
    "![](pivoting_fig2.png)"
   ],
   "metadata": {
    "collapsed": false
   }
  },
  {
   "cell_type": "markdown",
   "metadata": {},
   "source": [
    "This can be done, for example, by running the code below:"
   ]
  },
  {
   "cell_type": "code",
   "execution_count": 102,
   "metadata": {},
   "outputs": [
    {
     "name": "stdout",
     "output_type": "stream",
     "text": [
      "[Info] Given pivot is legal.\n",
      "Vertex b\n",
      "[[ 2.00e+02 -7.00e+02  8.40e+03]\n",
      " [-5.00e-01  3.50e+00  1.90e+01]\n",
      " [ 5.00e-01  5.00e-01  2.10e+01]\n",
      " [-7.50e-01  2.25e+00  4.50e+00]]\n",
      "[Info] Given pivot is legal.\n",
      "Vertex c\n",
      "[[-3.33333333e+01  3.11111111e+02  9.80000000e+03]\n",
      " [ 6.66666667e-01 -1.55555556e+00  1.20000000e+01]\n",
      " [ 6.66666667e-01 -2.22222222e-01  2.00000000e+01]\n",
      " [-3.33333333e-01  4.44444444e-01  2.00000000e+00]]\n",
      "[Info] Given pivot is legal.\n",
      "Vertex d\n",
      "[[ 5.00000000e+01  2.33333333e+02  1.04000000e+04]\n",
      " [ 1.50000000e+00 -2.33333333e+00  1.80000000e+01]\n",
      " [-1.00000000e+00  1.33333333e+00  8.00000000e+00]\n",
      " [ 5.00000000e-01 -3.33333333e-01  8.00000000e+00]]\n"
     ]
    }
   ],
   "source": [
    "import numpy as np\n",
    "T = np.array([\n",
    "    [-400,-900,0],\n",
    "    [1,4,40],\n",
    "    [2,1,42],\n",
    "    [1.5,3,36]\n",
    "])\n",
    "\n",
    "T = pivot(T,2,0)\n",
    "print(\"Vertex b\")\n",
    "print(T)\n",
    "\n",
    "T = pivot(T,3,1)\n",
    "print(\"Vertex c\")\n",
    "print(T)\n",
    "\n",
    "T = pivot(T,1,0)\n",
    "print(\"Vertex d\")\n",
    "print(T)"
   ]
  },
  {
   "cell_type": "markdown",
   "metadata": {},
   "source": [
    "Next, let us check whether your function gives a warning if the indicated pivot is not legal. To this end let us take another look at the graphical represenation of the original LP:\n",
    "\n",
    "![](pivoting_fig1.png)\n",
    "\n",
    "We see that the first and the second constraint are never both tight for any point in the polytope. In other words, there is no solution with $y_1=y_2=0$.\n",
    "\n",
    "Let us check whether your function detects that the pivoting step taking us to the solution with $y_1=y_2=0$ is illegal! To this end, note that we get to this solution from the tableau for \"verted $d$\" above if we pivot such that $y_2$ exits the basis and $y_3$ enters the basis. The following call executes precisely the pivoting operation corresponding to this basis change (assuming that you didn't change $T$ after the above pivoting steps)."
   ]
  },
  {
   "cell_type": "code",
   "execution_count": 98,
   "metadata": {},
   "outputs": [
    {
     "name": "stdout",
     "output_type": "stream",
     "text": [
      "[Warning] Given pivot is illegal.\n",
      "[[ 2.00000000e+02  1.00000000e+02  1.22000000e+04]\n",
      " [-6.42857143e-01 -4.28571429e-01 -7.71428571e+00]\n",
      " [-1.42857143e-01  5.71428571e-01  1.82857143e+01]\n",
      " [ 2.85714286e-01 -1.42857143e-01  5.42857143e+00]]\n"
     ]
    }
   ],
   "source": [
    "T = pivot(T,1,1)\n",
    "print(T)"
   ]
  },
  {
   "cell_type": "markdown",
   "metadata": {},
   "source": [
    "Now, let us see whether your function correctly gives an error if a pivot operation cannot be performed. To this end, consider the following short tableau (which is unrelated to the LP above) taken from the script, and try to replace $y_1$ by $y_2$.\n",
    "\n",
    "$$\\begin{array}{c|rr|c}\n",
    " &y_3&y_2&1\\\\\n",
    "\\hline\n",
    "z&1&1&3\\\\\n",
    "\\hline\n",
    "y_1&1&0&3\\\\\n",
    "x_2&2&-1&3\\\\\n",
    "x_1&1&-1&1\n",
    "\\end{array}$$"
   ]
  },
  {
   "cell_type": "code",
   "execution_count": 103,
   "metadata": {},
   "outputs": [
    {
     "name": "stdout",
     "output_type": "stream",
     "text": [
      "[Error] Given pivot is zero, step cannot be performed.\n"
     ]
    }
   ],
   "source": [
    "# Apply your function to the tableau above.\n",
    "T = np.array([\n",
    "    [1,1,3],\n",
    "    [1,0,3],\n",
    "    [2,-1,3],\n",
    "    [1,-1,1]\n",
    "])\n",
    "T = pivot(T,1,1)"
   ]
  },
  {
   "cell_type": "markdown",
   "metadata": {},
   "source": [
    "Finally, you can apply your pivoting functions to other examples from class. By doing tests as the above ones, try to see whether the different cases are recognised correctly by your function!"
   ]
  }
 ],
 "metadata": {
  "kernelspec": {
   "display_name": "Python 3",
   "language": "python",
   "name": "python3"
  },
  "language_info": {
   "codemirror_mode": {
    "name": "ipython",
    "version": 3
   },
   "file_extension": ".py",
   "mimetype": "text/x-python",
   "name": "python",
   "nbconvert_exporter": "python",
   "pygments_lexer": "ipython3",
   "version": "3.7.9"
  }
 },
 "nbformat": 4,
 "nbformat_minor": 4
}