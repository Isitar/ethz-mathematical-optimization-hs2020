{
 "cells": [
  {
   "cell_type": "markdown",
   "metadata": {},
   "source": [
    "<div style=\"background-color: #1f407a;padding:1rem;\">\n",
    "<img src=\"images/ethz_logo.svg\" />\n",
    "</div>\n",
    "<div style=\"color:#1f407a;padding:1rem; text-align:center; font-size: 2rem; font-weight: 600;\">\n",
    "401-3901-00L Mathematical Optimization HS2020\n",
    "</div>\n",
    "<div style=\"text-align: center; color:#1f407a\">Pascal Lüscher</div>"
   ]
  },
  {
   "cell_type": "code",
   "execution_count": 1,
   "metadata": {},
   "outputs": [],
   "source": [
    "from pulp import *"
   ]
  },
  {
   "cell_type": "code",
   "execution_count": 2,
   "metadata": {},
   "outputs": [
    {
     "name": "stdout",
     "output_type": "stream",
     "text": [
      "Optimal\n",
      "2.88266\n",
      "5.92995\n",
      "4.55867\n"
     ]
    }
   ],
   "source": [
    "x_1 = LpVariable(\"x_1\")\n",
    "x_2 = LpVariable(\"x_2\", 0)\n",
    "x_3 = LpVariable(\"x_3\")\n",
    "\n",
    "problem = LpProblem(\"introduction\", LpMaximize)\n",
    "problem += 10*x_1 - x_2 - 2.5*x_3 >= 11.5\n",
    "problem += -21*x_1 + x_2 - 6*x_3 >= -104\n",
    "problem += 4.25*x_1 + 2.75 * x_2 - x_3 <= 24\n",
    "problem += 10* x_1 - x_2 + 35 * x_3 >= 49\n",
    "problem += x_1 + 2*x_3 == 12\n",
    "\n",
    "# objective\n",
    "problem += 6*x_1 + 5*x_2 + 5.5*x_3\n",
    "\n",
    "status = problem.solve()\n",
    "print(LpStatus[status])\n",
    "print(value(x_1))\n",
    "print(value(x_2))\n",
    "print(value(x_3))"
   ]
  },
  {
   "cell_type": "code",
   "execution_count": 3,
   "metadata": {
    "pycharm": {
     "name": "#%%\n"
    }
   },
   "outputs": [
    {
     "name": "stdout",
     "output_type": "stream",
     "text": [
      "Optimal\n",
      "2.88266\n",
      "5.92995\n",
      "4.55867\n"
     ]
    }
   ],
   "source": [
    "x_1 = LpVariable(\"x_1\")\n",
    "x_2 = LpVariable(\"x_2\")\n",
    "x_3 = LpVariable(\"x_3\")\n",
    "\n",
    "problem2 = LpProblem(\"prblem_1_lpdot\", LpMaximize)\n",
    "x_arr = [x_1,x_2,x_3]\n",
    "# objective\n",
    "problem2 += lpDot([6,5,5.5], x_arr)\n",
    "problem2 += lpDot([10,-1,-2.5], x_arr) >= 11.5\n",
    "problem2 += lpDot([-21,1,-6], x_arr) >= -104\n",
    "problem2 += lpDot([4.25,2.75,-1], x_arr) <= 24\n",
    "problem2 += lpDot([0,1,0], x_arr) >= 0\n",
    "problem2 += lpDot([10,-1,+35], x_arr) >= 49\n",
    "problem2 += lpDot([1,0,2], x_arr) == 12\n",
    "status2 = problem2.solve()\n",
    "print(LpStatus[status2])\n",
    "print(value(x_1))\n",
    "print(value(x_2))\n",
    "print(value(x_3))"
   ]
  },
  {
   "cell_type": "code",
   "execution_count": null,
   "metadata": {
    "pycharm": {
     "name": "#%%\n"
    }
   },
   "outputs": [],
   "source": [
    "\n"
   ]
  }
 ],
 "metadata": {
  "kernelspec": {
   "display_name": "Python 3",
   "language": "python",
   "name": "python3"
  },
  "language_info": {
   "codemirror_mode": {
    "name": "ipython",
    "version": 3
   },
   "file_extension": ".py",
   "mimetype": "text/x-python",
   "name": "python",
   "nbconvert_exporter": "python",
   "pygments_lexer": "ipython3",
   "version": "3.7.9"
  }
 },
 "nbformat": 4,
 "nbformat_minor": 1
}